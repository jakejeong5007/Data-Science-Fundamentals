{
 "cells": [
  {
   "attachments": {},
   "cell_type": "markdown",
   "metadata": {},
   "source": [
    "# Worksheet 08\n",
    "\n",
    "Name:  \n",
    "UID: \n",
    "\n",
    "### Topics\n",
    "\n",
    "- Soft Clustering\n",
    "- Clustering Aggregation\n",
    "\n",
    "### Probability Review\n",
    "\n",
    "Read through [the following](https://medium.com/@gallettilance/overview-of-probability-3272b72c82c8)\n",
    "\n",
    "### Soft Clustering\n",
    "\n",
    "We generate 10 data points that come from a normal distribution with mean 5 and variance 1."
   ]
  },
  {
   "cell_type": "code",
   "execution_count": 1,
   "metadata": {},
   "outputs": [
    {
     "name": "stdout",
     "output_type": "stream",
     "text": [
      "[4.813711939291719, 5.094328419997168, 4.938581631169785, 5.5413735515095075, 5.779493679880243, 5.994679161661686, 3.743403109560141, 4.3455426487305315, 4.996928873549383, 3.215671884113352]\n"
     ]
    }
   ],
   "source": [
    "import random\n",
    "import numpy as np\n",
    "from sklearn.cluster import KMeans\n",
    "\n",
    "mean = 5\n",
    "stdev = 1\n",
    "\n",
    "s1 = np.random.normal(mean, stdev, 10).tolist()\n",
    "print(s1)"
   ]
  },
  {
   "cell_type": "markdown",
   "metadata": {},
   "source": [
    "a) Generate 10 more data points, this time coming from a normal distribution with mean 8 and variance 1."
   ]
  },
  {
   "cell_type": "code",
   "execution_count": 2,
   "metadata": {},
   "outputs": [
    {
     "name": "stdout",
     "output_type": "stream",
     "text": [
      "[8.358608926901418, 8.68028104836865, 7.947369384707107, 6.802895114667908, 8.09909979364897, 6.878581391456931, 9.48290874791877, 8.176397377171288, 9.490027277296223, 8.435082738640341]\n"
     ]
    }
   ],
   "source": [
    "s2 = np.random.normal(8, 1,10 ).tolist()\n",
    "print(s2)"
   ]
  },
  {
   "attachments": {},
   "cell_type": "markdown",
   "metadata": {},
   "source": [
    "b) Flip a fair coin 10 times. If the coin lands on H, then pick the last data point of `s1` and remove it from `s1`, if T then pick the last data point from `s2` and remove it from `s2`. Add these 10 points to a list called `data`."
   ]
  },
  {
   "cell_type": "code",
   "execution_count": 3,
   "metadata": {},
   "outputs": [
    {
     "name": "stdout",
     "output_type": "stream",
     "text": [
      "[3.215671884113352, 4.996928873549383, 4.3455426487305315, 8.435082738640341, 9.490027277296223, 8.176397377171288, 3.743403109560141, 5.994679161661686, 9.48290874791877, 5.779493679880243]\n"
     ]
    }
   ],
   "source": [
    "data = []\n",
    "for i in range(10):\n",
    "    # flip coin\n",
    "    coin_output = random.choice([0, 1])\n",
    "    if coin_output == 0:\n",
    "        p1 = s1.pop()\n",
    "        data.append(p1)\n",
    "    else:\n",
    "        p2 = s2.pop()\n",
    "        data.append(p2)\n",
    "print(data)"
   ]
  },
  {
   "cell_type": "markdown",
   "metadata": {},
   "source": [
    "c) This `data` is a Gaussian Mixture Distribution with 2 mixture components. Over the next few questions we will walk through the GMM algorithm to see if we can uncover the parameters we used to generate this data. First, please list all these parameters of the GMM that created `data` and the values we know they have."
   ]
  },
  {
   "cell_type": "markdown",
   "metadata": {},
   "source": [
    "For each mixture, there was 3 parameters. We have two mixtures which make total of 6 parameters."
   ]
  },
  {
   "cell_type": "markdown",
   "metadata": {},
   "source": [
    "d) Let's assume there are two mixture components (note: we could plot the data and make the observation that there are two clusters). The EM algorithm asks us to start with a random `mean_j`, `variance_j`, `P(S_j)` for each component j. One method we could use to find sensible values for these is to apply K means with k=2 here.\n",
    "\n",
    "1. the centroids would be the estimates of the `mean_j`\n",
    "2. the intra-cluster variance could be the estimate of `variance_j`\n",
    "3. the proportion of points in each cluster could be the estimate of `P(S_j)`\n",
    "\n",
    "Go through this process and list the parameter estimates it gives. Are they close or far from the true values?"
   ]
  },
  {
   "cell_type": "code",
   "execution_count": 4,
   "metadata": {},
   "outputs": [
    {
     "name": "stdout",
     "output_type": "stream",
     "text": [
      "[8.435082738640341, 9.490027277296223, 8.176397377171288, 9.48290874791877]\n",
      "[3.215671884113352, 4.996928873549383, 4.3455426487305315, 3.743403109560141, 5.994679161661686, 5.779493679880243]\n",
      "P(S_1) = 0.4,  P(S_2) = 0.6\n",
      "mean_1 = 8.896104035256656,  mean_2 = 4.679286559582557\n",
      "var_1 = 0.3569007244658635,  var_2 = 1.0285067988476535\n"
     ]
    }
   ],
   "source": [
    "kmeans = KMeans(2, init='k-means++').fit(X=np.array(data).reshape(-1, 1))\n",
    "\n",
    "s1 = [x[0] for x in filter(lambda x: x[1] == 0, zip(data, kmeans.labels_))]\n",
    "print(s1)\n",
    "s2 = [x[0] for x in filter(lambda x: x[1] == 1, zip(data, kmeans.labels_))]\n",
    "print(s2)\n",
    "\n",
    "prob_s = [ len(s1) / (len(s1) + len(s2)) , len(s2) / (len(s1) + len(s2)) ]\n",
    "mean = [ sum(s1)/len(s1) , sum(s2)/len(s2) ]\n",
    "var = [ sum(map(lambda x : (x - mean[0])**2, s1)) / len(s1) , sum(map(lambda x : (x - mean[1])**2, s2)) / len(s2) ]\n",
    "\n",
    "print(\"P(S_1) = \" + str(prob_s[0]) + \",  P(S_2) = \" + str(prob_s[1]))\n",
    "print(\"mean_1 = \" + str(mean[0]) + \",  mean_2 = \" + str(mean[1]))\n",
    "print(\"var_1 = \" + str(var[0]) + \",  var_2 = \" + str(var[1]))"
   ]
  },
  {
   "cell_type": "markdown",
   "metadata": {},
   "source": []
  },
  {
   "cell_type": "markdown",
   "metadata": {},
   "source": [
    "e) For each data point, compute `P(S_j | X_i)`. Comment on which cluster you think each point belongs to based on the estimated probabilities. How does that compare to the truth?"
   ]
  },
  {
   "cell_type": "code",
   "execution_count": 5,
   "metadata": {},
   "outputs": [
    {
     "name": "stdout",
     "output_type": "stream",
     "text": [
      "point =  3.215671884113352\n",
      "probability of observing that point if it came from cluster 0 =  1.0985612453161562e-55\n",
      "probability of observing that point if it came from cluster 1 =  0.1409176555966155\n",
      "point =  4.996928873549383\n",
      "probability of observing that point if it came from cluster 0 =  1.349447661609496e-26\n",
      "probability of observing that point if it came from cluster 1 =  0.36982064714056917\n",
      "point =  4.3455426487305315\n",
      "probability of observing that point if it came from cluster 0 =  5.586853793180065e-36\n",
      "probability of observing that point if it came from cluster 1 =  0.36799179632403495\n",
      "point =  8.435082738640341\n",
      "probability of observing that point if it came from cluster 0 =  0.4853276379875392\n",
      "probability of observing that point if it came from cluster 1 =  0.0004932494299424987\n",
      "point =  9.490027277296223\n",
      "probability of observing that point if it came from cluster 0 =  0.27991271663578127\n",
      "probability of observing that point if it came from cluster 1 =  6.8854802622569485e-06\n",
      "point =  8.176397377171288\n",
      "probability of observing that point if it came from cluster 0 =  0.14633315067220143\n",
      "probability of observing that point if it came from cluster 1 =  0.0011973229525784946\n",
      "point =  3.743403109560141\n",
      "probability of observing that point if it came from cluster 0 =  6.121001243984679e-46\n",
      "probability of observing that point if it came from cluster 1 =  0.2563925806529504\n",
      "point =  5.994679161661686\n",
      "probability of observing that point if it came from cluster 0 =  4.9815469160001546e-15\n",
      "probability of observing that point if it came from cluster 1 =  0.1712068131209668\n",
      "point =  9.48290874791877\n",
      "probability of observing that point if it came from cluster 0 =  0.2893017704859763\n",
      "probability of observing that point if it came from cluster 1 =  7.11186347778522e-06\n",
      "point =  5.779493679880243\n",
      "probability of observing that point if it came from cluster 0 =  3.0883736836246494e-17\n",
      "probability of observing that point if it came from cluster 1 =  0.2188892131938815\n",
      "3.215671884113352\n",
      "Probability of coming from S_1 = 5.197178170779148e-55\n",
      "Probability of coming from S_2 = 1.0\n",
      "\n",
      "4.996928873549383\n",
      "Probability of coming from S_1 = 2.4326164084191324e-26\n",
      "Probability of coming from S_2 = 1.0\n",
      "\n",
      "4.3455426487305315\n",
      "Probability of coming from S_1 = 1.0121337575073846e-35\n",
      "Probability of coming from S_2 = 1.0\n",
      "\n",
      "8.435082738640341\n",
      "Probability of coming from S_1 = 0.9984778366658001\n",
      "Probability of coming from S_2 = 0.0015221633341998238\n",
      "\n",
      "9.490027277296223\n",
      "Probability of coming from S_1 = 0.9999631033579294\n",
      "Probability of coming from S_2 = 3.689664207065229e-05\n",
      "\n",
      "8.176397377171288\n",
      "Probability of coming from S_1 = 0.9878755490765383\n",
      "Probability of coming from S_2 = 0.012124450923461705\n",
      "\n",
      "3.743403109560141\n",
      "Probability of coming from S_1 = 1.5915700390384244e-45\n",
      "Probability of coming from S_2 = 1.0\n",
      "\n",
      "5.994679161661686\n",
      "Probability of coming from S_1 = 1.9397775221637266e-14\n",
      "Probability of coming from S_2 = 0.9999999999999806\n",
      "\n",
      "9.48290874791877\n",
      "Probability of coming from S_1 = 0.9999631270771486\n",
      "Probability of coming from S_2 = 3.687292285134808e-05\n",
      "\n",
      "5.779493679880243\n",
      "Probability of coming from S_1 = 9.406200328653983e-17\n",
      "Probability of coming from S_2 = 1.0\n",
      "\n"
     ]
    }
   ],
   "source": [
    "from scipy.stats import norm\n",
    "\n",
    "prob_s0_x = [] # P(S_0 | X_i)\n",
    "prob_s1_x = [] # P(S_1 | X_i)\n",
    "prob_x = [] # P(X_i)\n",
    "\n",
    "k = 2\n",
    "\n",
    "for p in data:\n",
    "    print(\"point = \", p)\n",
    "    pdf_i = []\n",
    "\n",
    "    for j in range(k):\n",
    "        # P(X_i | S_j)\n",
    "        pdf_i.append(norm.pdf(p, mean[j], var[j]))\n",
    "        print(\"probability of observing that point if it came from cluster \" + str(j) + \" = \", pdf_i[j])\n",
    "        # P(S_j) already computed\n",
    "        prob_s[j]\n",
    "\n",
    "    # P(X_i) = P(S_0)P(X_i | S_0) + P(S_1)P(X_i | S_1)\n",
    "    prob_x = prob_s[0] * pdf_i[0] + prob_s[1] * pdf_i[1]\n",
    "\n",
    "    # P(S_j | X_i) = P(X_i | S_j)P(S_j) / P(X_i)\n",
    "    prob_s0_x.append(pdf_i[0]*prob_s[0]/prob_x)\n",
    "    prob_s1_x.append( pdf_i[1]*prob_s[1]/prob_x )\n",
    "\n",
    "probs = zip(data, prob_s0_x, prob_s1_x)\n",
    "for p in probs:\n",
    "    print(p[0])\n",
    "    print(\"Probability of coming from S_1 = \" + str(p[1]))\n",
    "    print(\"Probability of coming from S_2 = \" + str(p[2]))\n",
    "    print()\n"
   ]
  },
  {
   "cell_type": "markdown",
   "metadata": {},
   "source": [
    "\n",
    "1. **Point 3.215671884113352:**\n",
    "   - Assigned Cluster: 1\n",
    "\n",
    "2. **Point 4.996928873549383:**\n",
    "   - Assigned Cluster: 1\n",
    "\n",
    "3. **Point 4.3455426487305315:**\n",
    "   - Assigned Cluster: 1\n",
    "\n",
    "4. **Point 8.435082738640341:**\n",
    "   - Assigned Cluster: 0\n",
    "\n",
    "5. **Point 9.490027277296223:**\n",
    "   - Assigned Cluster: 0\n",
    "\n",
    "6. **Point 8.176397377171288:**\n",
    "   - Assigned Cluster: 0\n",
    "\n",
    "7. **Point 3.743403109560141:**\n",
    "   - Assigned Cluster: 1\n",
    "\n",
    "8. **Point 5.994679161661686:**\n",
    "   - Assigned Cluster: 1\n",
    "\n",
    "9. **Point 9.48290874791877:**\n",
    "   - Assigned Cluster: 0\n",
    "\n",
    "10. **Point 5.779493679880243:**\n",
    "    - Assigned Cluster: 1\n",
    "\n",
    "Now, let's compare these assignments to the truth:\n",
    "\n",
    "- **True Assignments:**\n",
    "  - Points 1, 2, 3, 7, and 10 belong to Cluster 1.\n",
    "  - Points 4, 5, 6, 8, and 9 belong to Cluster 0.\n",
    "\n",
    "- **Estimated Assignments:**\n",
    "  - Points 1, 2, 3, 7, and 10 are assigned to Cluster 1.\n",
    "  - Points 4, 5, 6, 8, and 9 are assigned to Cluster 0.\n",
    "\n",
    "The estimated assignments seem to align with the truth based on the higher probabilities. "
   ]
  },
  {
   "cell_type": "markdown",
   "metadata": {},
   "source": [
    "f) Having computed `P(S_j | X_i)`, update the estimates of `mean_j`, `var_j`, and `P(S_j)`. How different are these values from the original ones you got from K means? briefly comment."
   ]
  },
  {
   "cell_type": "code",
   "execution_count": 6,
   "metadata": {},
   "outputs": [
    {
     "name": "stdout",
     "output_type": "stream",
     "text": [
      "P(S_1) = 0.4,  P(S_2) = 0.6\n",
      "mean_1 = 8.89845817186888,  mean_2 = 5.898468861530469\n",
      "var_1 = 1.4209513777044163,  var_2 = 112.98616904461836\n"
     ]
    }
   ],
   "source": [
    "prob_c = [sum(prob_s0_x)/ len(prob_s0_x), sum(prob_s1_x)/ len(prob_s1_x) ]\n",
    "mean = [sum([x[0] * x[1] for x in zip(prob_s0_x, data)]) / sum(prob_s0_x), sum([x[0] * x[1] for x in zip(prob_s0_x, data)]) / sum(prob_s1_x) ]\n",
    "var = [ sum([x[0] * (x[1]-mean[0])**2 for x in zip(prob_s0_x, data)]) , sum([x[0] * (x[1]-mean[0])**2 for x in zip(prob_s1_x, data)]) ]\n",
    "\n",
    "print(\"P(S_1) = \" + str(prob_s[0]) + \",  P(S_2) = \" + str(prob_s[1]))\n",
    "print(\"mean_1 = \" + str(mean[0]) + \",  mean_2 = \" + str(mean[1]))\n",
    "print(\"var_1 = \" + str(var[0]) + \",  var_2 = \" + str(var[1]))"
   ]
  },
  {
   "cell_type": "markdown",
   "metadata": {},
   "source": []
  },
  {
   "cell_type": "markdown",
   "metadata": {},
   "source": [
    "g) Update `P(S_j | X_i)`. Comment on any differences or lack thereof you observe."
   ]
  },
  {
   "cell_type": "code",
   "execution_count": 7,
   "metadata": {},
   "outputs": [
    {
     "name": "stdout",
     "output_type": "stream",
     "text": [
      "point =  3.215671884113352\n",
      "probability of observing that point if it came from cluster 0 =  9.445412477829268e-05\n",
      "probability of observing that point if it came from cluster 1 =  0.003529899613383215\n",
      "point =  4.996928873549383\n",
      "probability of observing that point if it came from cluster 0 =  0.006475405505378449\n",
      "probability of observing that point if it came from cluster 1 =  0.0035307824320487146\n",
      "point =  4.3455426487305315\n",
      "probability of observing that point if it came from cluster 0 =  0.0016557594009468943\n",
      "probability of observing that point if it came from cluster 1 =  0.003530561340357049\n",
      "point =  8.435082738640341\n",
      "probability of observing that point if it came from cluster 0 =  0.26621886663356437\n",
      "probability of observing that point if it came from cluster 1 =  0.003530005102324569\n",
      "point =  9.490027277296223\n",
      "probability of observing that point if it came from cluster 0 =  0.25745098308257114\n",
      "probability of observing that point if it came from cluster 1 =  0.0035291113845756983\n",
      "point =  8.176397377171288\n",
      "probability of observing that point if it came from cluster 0 =  0.24675115189704303\n",
      "probability of observing that point if it came from cluster 1 =  0.003530177301961551\n",
      "point =  3.743403109560141\n",
      "probability of observing that point if it came from cluster 0 =  0.0003893400233403086\n",
      "probability of observing that point if it came from cluster 1 =  0.003530252609428101\n",
      "point =  5.994679161661686\n",
      "probability of observing that point if it came from cluster 0 =  0.03479419969451673\n",
      "probability of observing that point if it came from cluster 1 =  0.003530893552193708\n",
      "point =  9.48290874791877\n",
      "probability of observing that point if it came from cluster 0 =  0.2579852536346869\n",
      "probability of observing that point if it came from cluster 1 =  0.0035291184454396933\n",
      "point =  5.779493679880243\n",
      "probability of observing that point if it came from cluster 0 =  0.025242128162535113\n",
      "probability of observing that point if it came from cluster 1 =  0.003530892874735699\n",
      "3.215671884113352\n",
      "Probability of coming from S_1 = 0.01752622096569382\n",
      "Probability of coming from S_2 = 0.9824737790343061\n",
      "\n",
      "4.996928873549383\n",
      "Probability of coming from S_1 = 0.5500880910680372\n",
      "Probability of coming from S_2 = 0.44991190893196276\n",
      "\n",
      "4.3455426487305315\n",
      "Probability of coming from S_1 = 0.23818388065402538\n",
      "Probability of coming from S_2 = 0.7618161193459746\n",
      "\n",
      "8.435082738640341\n",
      "Probability of coming from S_1 = 0.9804982059668567\n",
      "Probability of coming from S_2 = 0.019501794033143366\n",
      "\n",
      "9.490027277296223\n",
      "Probability of coming from S_1 = 0.9798524267814728\n",
      "Probability of coming from S_2 = 0.020147573218527285\n",
      "\n",
      "8.176397377171288\n",
      "Probability of coming from S_1 = 0.9789909096978557\n",
      "Probability of coming from S_2 = 0.021009090302144255\n",
      "\n",
      "3.743403109560141\n",
      "Probability of coming from S_1 = 0.06848887827561305\n",
      "Probability of coming from S_2 = 0.9315111217243869\n",
      "\n",
      "5.994679161661686\n",
      "Probability of coming from S_1 = 0.8678905216722572\n",
      "Probability of coming from S_2 = 0.13210947832774272\n",
      "\n",
      "9.48290874791877\n",
      "Probability of coming from S_1 = 0.9798932727280396\n",
      "Probability of coming from S_2 = 0.02010672727196043\n",
      "\n",
      "5.779493679880243\n",
      "Probability of coming from S_1 = 0.8265682678247686\n",
      "Probability of coming from S_2 = 0.17343173217523145\n",
      "\n"
     ]
    }
   ],
   "source": [
    "from scipy.stats import norm\n",
    "\n",
    "prob_s0_x = [] # P(S_0 | X_i)\n",
    "prob_s1_x = [] # P(S_1 | X_i)\n",
    "prob_x = [] # P(X_i)\n",
    "\n",
    "k = 2\n",
    "\n",
    "for p in data:\n",
    "    print(\"point = \", p)\n",
    "    pdf_i = []\n",
    "\n",
    "    for j in range(k):\n",
    "        # P(X_i | S_j)\n",
    "        pdf_i.append(norm.pdf(p, mean[j], var[j]))\n",
    "        print(\"probability of observing that point if it came from cluster \" + str(j) + \" = \", pdf_i[j])\n",
    "        # P(S_j) already computed\n",
    "        prob_s[j]\n",
    "\n",
    "    # P(X_i) = P(S_0)P(X_i | S_0) + P(S_1)P(X_i | S_1)\n",
    "    prob_x = prob_s[0] * pdf_i[0] + prob_s[1] * pdf_i[1]\n",
    "\n",
    "    # P(S_j | X_i) = P(X_i | S_j)P(S_j) / P(X_i)\n",
    "    prob_s0_x.append(pdf_i[0]*prob_s[0]/prob_x)\n",
    "    prob_s1_x.append( pdf_i[1]*prob_s[1]/prob_x )\n",
    "\n",
    "probs = zip(data, prob_s0_x, prob_s1_x)\n",
    "for p in probs:\n",
    "    print(p[0])\n",
    "    print(\"Probability of coming from S_1 = \" + str(p[1]))\n",
    "    print(\"Probability of coming from S_2 = \" + str(p[2]))\n",
    "    print()\n"
   ]
  },
  {
   "cell_type": "markdown",
   "metadata": {},
   "source": []
  },
  {
   "cell_type": "markdown",
   "metadata": {},
   "source": [
    "h) Use `P(S_j | X_i)` to create a hard assignment - label each point as belonging to a specific cluster (0 or 1)"
   ]
  },
  {
   "cell_type": "markdown",
   "metadata": {},
   "source": [
    "\n",
    "1. **Point 3.215671884113352:**\n",
    "   - Assigned Cluster: 1\n",
    "\n",
    "2. **Point 4.996928873549383:**\n",
    "   - Assigned Cluster: 0\n",
    "\n",
    "3. **Point 4.3455426487305315:**\n",
    "   - Assigned Cluster: 1\n",
    "\n",
    "4. **Point 8.435082738640341:**\n",
    "   - Assigned Cluster: 0\n",
    "\n",
    "5. **Point 9.490027277296223:**\n",
    "   - Assigned Cluster: 0\n",
    "\n",
    "6. **Point 8.176397377171288:**\n",
    "   - Assigned Cluster: 0\n",
    "\n",
    "7. **Point 3.743403109560141:**\n",
    "   - Assigned Cluster: 1\n",
    "\n",
    "8. **Point 5.994679161661686:**\n",
    "   - Assigned Cluster: 0\n",
    "\n",
    "9. **Point 9.48290874791877:**\n",
    "   - Assigned Cluster: 0\n",
    "\n",
    "10. **Point 5.779493679880243:**\n",
    "    - Assigned Cluster: 0\n"
   ]
  }
 ],
 "metadata": {
  "kernelspec": {
   "display_name": "Python 3",
   "language": "python",
   "name": "python3"
  },
  "language_info": {
   "codemirror_mode": {
    "name": "ipython",
    "version": 3
   },
   "file_extension": ".py",
   "mimetype": "text/x-python",
   "name": "python",
   "nbconvert_exporter": "python",
   "pygments_lexer": "ipython3",
   "version": "3.10.13"
  },
  "orig_nbformat": 4,
  "vscode": {
   "interpreter": {
    "hash": "e7370f93d1d0cde622a1f8e1c04877d8463912d04d973331ad4851f04de6915a"
   }
  }
 },
 "nbformat": 4,
 "nbformat_minor": 2
}
